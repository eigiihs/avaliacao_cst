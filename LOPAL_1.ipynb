{
  "nbformat": 4,
  "nbformat_minor": 0,
  "metadata": {
    "colab": {
      "provenance": []
    },
    "kernelspec": {
      "name": "python3",
      "display_name": "Python 3"
    },
    "language_info": {
      "name": "python"
    }
  },
  "cells": [
    {
      "cell_type": "code",
      "execution_count": null,
      "metadata": {
        "colab": {
          "base_uri": "https://localhost:8080/"
        },
        "id": "dHCevLvx19Ls",
        "outputId": "c5e6dfe7-b02f-44f5-b0b4-ccf8b65a76e2"
      },
      "outputs": [
        {
          "output_type": "stream",
          "name": "stdout",
          "text": [
            "O valor máximo de uso na região [20, 25, 40, 50, 45, 60, 55, 35, 70, 65] foi: 70\n",
            "O valor máximo de uso na região [30, 35, 50, 60, 40, 55, 60, 45, 50, 55] foi: 60\n",
            "O valor máximo de uso na região [15, 20, 30, 25, 35, 40, 45, 50, 55, 60] foi: 60\n",
            "O valor máximo de uso na região [10, 15, 25, 35, 45, 50, 55, 60, 65, 70] foi: 70\n"
          ]
        }
      ],
      "source": [
        "uso_cpu = [\n",
        "[20, 25, 40, 50, 45, 60, 55, 35, 70, 65],\n",
        "[30, 35, 50, 60, 40, 55, 60, 45, 50, 55],\n",
        "[15, 20, 30, 25, 35, 40, 45, 50, 55, 60],\n",
        "[10, 15, 25, 35, 45, 50, 55, 60, 65, 70],\n",
        "]\n",
        "\n",
        "def uso_maximo(lista):\n",
        "  maximo = 0\n",
        "  for i in lista:\n",
        "    if i > maximo:\n",
        "      maximo = i\n",
        "  return maximo\n",
        "\n",
        "for i in uso_cpu:\n",
        "  maximo = uso_maximo(i)\n",
        "  print(f'O valor máximo de uso na região {i} foi: {maximo}')"
      ]
    }
  ]
}