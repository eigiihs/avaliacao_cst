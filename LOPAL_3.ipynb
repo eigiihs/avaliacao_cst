{
  "nbformat": 4,
  "nbformat_minor": 0,
  "metadata": {
    "colab": {
      "provenance": []
    },
    "kernelspec": {
      "name": "python3",
      "display_name": "Python 3"
    },
    "language_info": {
      "name": "python"
    }
  },
  "cells": [
    {
      "cell_type": "code",
      "execution_count": null,
      "metadata": {
        "colab": {
          "base_uri": "https://localhost:8080/"
        },
        "id": "FyvVmAm28O_m",
        "outputId": "d51ae903-7096-4899-b350-451cf96b7c6f"
      },
      "outputs": [
        {
          "output_type": "stream",
          "name": "stdout",
          "text": [
            "1° região: [70, 65, 60, 55, 50, 45, 40, 35, 25, 20]\n",
            "2° região: [60, 60, 55, 55, 50, 50, 45, 40, 35, 30]\n",
            "3° região: [60, 55, 50, 45, 40, 35, 30, 25, 20, 15]\n",
            "4° região: [70, 65, 60, 55, 50, 45, 35, 25, 15, 10]\n"
          ]
        }
      ],
      "source": [
        "uso_cpu = [\n",
        "[20, 25, 40, 50, 45, 60, 55, 35, 70, 65],\n",
        "[30, 35, 50, 60, 40, 55, 60, 45, 50, 55],\n",
        "[15, 20, 30, 25, 35, 40, 45, 50, 55, 60],\n",
        "[10, 15, 25, 35, 45, 50, 55, 60, 65, 70],\n",
        "]\n",
        "\n",
        "def dados_decrescente(lista):\n",
        "  lista.sort(reverse=True)\n",
        "  return lista\n",
        "\n",
        "count = 1\n",
        "for i in uso_cpu:\n",
        "  decrescente = dados_decrescente(i)\n",
        "  print(f'{count}° região: {decrescente}')\n",
        "  count +=1"
      ]
    }
  ]
}