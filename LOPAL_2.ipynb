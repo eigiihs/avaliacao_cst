{
  "nbformat": 4,
  "nbformat_minor": 0,
  "metadata": {
    "colab": {
      "provenance": []
    },
    "kernelspec": {
      "name": "python3",
      "display_name": "Python 3"
    },
    "language_info": {
      "name": "python"
    }
  },
  "cells": [
    {
      "cell_type": "code",
      "execution_count": null,
      "metadata": {
        "colab": {
          "base_uri": "https://localhost:8080/"
        },
        "id": "QWuj_vw05OED",
        "outputId": "eeab029e-e5d8-4beb-8f8c-816f754ac7af"
      },
      "outputs": [
        {
          "output_type": "stream",
          "name": "stdout",
          "text": [
            "A região 1 possue 5 valores acima da média.\n",
            "A região 2 possue 6 valores acima da média.\n",
            "A região 3 possue 5 valores acima da média.\n",
            "A região 4 possue 6 valores acima da média.\n"
          ]
        }
      ],
      "source": [
        "uso_cpu = [\n",
        "[20, 25, 40, 50, 45, 60, 55, 35, 70, 65],\n",
        "[30, 35, 50, 60, 40, 55, 60, 45, 50, 55],\n",
        "[15, 20, 30, 25, 35, 40, 45, 50, 55, 60],\n",
        "[10, 15, 25, 35, 45, 50, 55, 60, 65, 70],\n",
        "]\n",
        "\n",
        "def acima_da_media(lista):\n",
        "  media = sum(lista) / len(lista)\n",
        "  acima_media = []\n",
        "  for i in lista:\n",
        "    if i > media:\n",
        "      acima_media.append(i)\n",
        "  total = len(acima_media)\n",
        "  return total\n",
        "\n",
        "count = 1\n",
        "for i in uso_cpu:\n",
        "  total = acima_da_media(i)\n",
        "  print(f'A região {count} possue {total} valores acima da média.')\n",
        "  count += 1"
      ]
    }
  ]
}